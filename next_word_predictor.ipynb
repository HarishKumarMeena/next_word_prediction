{
 "cells": [
  {
   "cell_type": "code",
   "execution_count": 18,
   "id": "3d4745ac",
   "metadata": {},
   "outputs": [
    {
     "name": "stdout",
     "output_type": "stream",
     "text": [
      "> Hey how are you\n",
      "Hey how are you know\n"
     ]
    }
   ],
   "source": [
    "# Creating dictionary \n",
    "my_dictionary = {} \n",
    "\n",
    "#Taking input\n",
    "user_input = input('> ')\n",
    "\n",
    "#Printing length of string\n",
    "words = user_input.split()\n",
    "user_input_length = len(words)\n",
    "\n",
    "print(\"Length of the input string: {}\".format(user_input_length))\n",
    "\n",
    "#Taking last word\n",
    "last_word = words[user_input_length - 1]\n",
    "print(\"The last word from the input: {}\".format(last_word))\n",
    "\n",
    "#opening dataset file\n",
    "dataset = open(\"dataset.txt\", \"r\")\n",
    "\n",
    "#setting index to 0 to check the line number, no use in predecting the word\n",
    "index = 0\n",
    "\n",
    "#going through the file line by line\n",
    "for line in dataset:\n",
    "    print(\"\\n\")\n",
    "    index += 1\n",
    "    line_length = len(line.split())\n",
    "    print(\"Line{}: {}, length:{}\".format(index, line.strip(), line_length))\n",
    "    \n",
    "    #checking if string is present in line\n",
    "    words_in_line = line.split()\n",
    "    if last_word in words_in_line:\n",
    "        position_of_word = words_in_line.index(last_word)\n",
    "        print(\"Position of {} in this line: {}\".format(last_word, position_of_word))\n",
    "        if position_of_word  == line_length - 1:\n",
    "            continue\n",
    "        else:\n",
    "            next_word = words_in_line[position_of_word + 1]\n",
    "            if next_word in my_dictionary:\n",
    "                my_dictionary[next_word] += 1\n",
    "            else:\n",
    "                my_dictionary[next_word] = 1\n",
    "    else:\n",
    "        continue\n",
    "\n",
    "\n",
    "print(\"\\n\")\n",
    "#checking if dictionary is empty\n",
    "empty_or_not = not bool(my_dictionary)\n",
    "\n",
    "\n",
    "#Key with maximum value\n",
    "if empty_or_not == True:\n",
    "    print(\"\\nSorry we have insufficient dataset to predict 😶\")\n",
    "else:\n",
    "    Keymax = max(zip(my_dictionary.values(), my_dictionary.keys()))[1]\n",
    "    print(\"Suggested next word: {}\".format(Keymax))\n",
    "\n",
    "    \n",
    "#priinting values  of dictionary\n",
    "print(\"\\n\")\n",
    "print(my_dictionary)\n"
   ]
  },
  {
   "cell_type": "code",
   "execution_count": null,
   "id": "53282dbb",
   "metadata": {},
   "outputs": [],
   "source": []
  }
 ],
 "metadata": {
  "kernelspec": {
   "display_name": "Python 3 (ipykernel)",
   "language": "python",
   "name": "python3"
  },
  "language_info": {
   "codemirror_mode": {
    "name": "ipython",
    "version": 3
   },
   "file_extension": ".py",
   "mimetype": "text/x-python",
   "name": "python",
   "nbconvert_exporter": "python",
   "pygments_lexer": "ipython3",
   "version": "3.9.7"
  }
 },
 "nbformat": 4,
 "nbformat_minor": 5
}
